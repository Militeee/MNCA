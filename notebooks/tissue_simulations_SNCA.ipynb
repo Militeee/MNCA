{
 "cells": [
  {
   "cell_type": "code",
   "execution_count": 157,
   "metadata": {},
   "outputs": [
    {
     "name": "stdout",
     "output_type": "stream",
     "text": [
      "The autoreload extension is already loaded. To reload it, use:\n",
      "  %reload_ext autoreload\n"
     ]
    }
   ],
   "source": [
    "import numpy as np\n",
    "import matplotlib.pyplot as plt\n",
    "import torch    \n",
    "\n",
    "\n",
    "import sys\n",
    "sys.path.append('..')\n",
    "\n",
    "# reload in jupyter\n",
    "%load_ext autoreload\n",
    "%autoreload 2\n",
    "\n",
    "from mix_NCA.utils_simulations import grid_to_channels_batch, train_nca_dyn, plot_nca_prediction, classification_update_net, plot_nca_prediction2, plot_automata_comparison_grid\n",
    "from mix_NCA.NCA import NCA \n",
    "from mix_NCA.MixtureNCA import MixtureNCA\n",
    "from mix_NCA.TissueModel import ComplexCellType, TissueModel, create_complex_model_example, plot_cell_type_evolution\n",
    "from mix_NCA.MixtureNCANoise import MixtureNCANoise\n",
    "\n",
    "\n",
    "# seet seed\n",
    "np.random.seed(9)"
   ]
  },
  {
   "cell_type": "code",
   "execution_count": 158,
   "metadata": {},
   "outputs": [],
   "source": [
    "\n",
    "# load the histories\n",
    "histories = np.load('histories.npy')\n"
   ]
  },
  {
   "cell_type": "code",
   "execution_count": 159,
   "metadata": {},
   "outputs": [
    {
     "data": {
      "text/plain": [
       "NCA(\n",
       "  (update): Sequential(\n",
       "    (0): Conv2d(18, 128, kernel_size=(1, 1), stride=(1, 1))\n",
       "    (1): ReLU()\n",
       "    (2): Conv2d(128, 12, kernel_size=(1, 1), stride=(1, 1))\n",
       "    (3): Softmax(dim=1)\n",
       "  )\n",
       ")"
      ]
     },
     "execution_count": 159,
     "metadata": {},
     "output_type": "execute_result"
    }
   ],
   "source": [
    "nca = NCA(update_net = classification_update_net(6 * 3,  n_channels_out = 6 * 2), hidden_dim = 128, maintain_seed = False, use_alive_mask = False, state_dim = 6, residual = False, distribution = \"normal\", device = \"cuda:3\")\n",
    "nca.random_updates = True\n",
    "nca.to(\"cuda:3\")"
   ]
  },
  {
   "cell_type": "code",
   "execution_count": 160,
   "metadata": {},
   "outputs": [
    {
     "name": "stdout",
     "output_type": "stream",
     "text": [
      "Precomputing grid representations...\n"
     ]
    },
    {
     "name": "stderr",
     "output_type": "stream",
     "text": [
      "Training NCA (mse):   0%|          | 0/800 [00:00<?, ?it/s]"
     ]
    },
    {
     "name": "stderr",
     "output_type": "stream",
     "text": [
      "Training NCA (mse): 100%|██████████| 800/800 [01:18<00:00, 10.25it/s, loss=0.003392, window=0-35]\n"
     ]
    },
    {
     "data": {
      "text/plain": [
       "0.11870961205568165"
      ]
     },
     "execution_count": 160,
     "metadata": {},
     "output_type": "execute_result"
    }
   ],
   "source": [
    "train_nca_dyn(nca, histories,n_cell_types = 6, n_epochs=800, time_length = 35, update_every = 1, device = \"cuda:3\", lr = 1e-4)"
   ]
  },
  {
   "cell_type": "code",
   "execution_count": 161,
   "metadata": {},
   "outputs": [
    {
     "data": {
      "text/plain": [
       "tensor([[[[ 9.8185e-01,  9.8984e-01,  9.6751e-01,  ...,  9.5758e-01,\n",
       "            9.9973e-01,  1.0237e+00],\n",
       "          [ 9.5778e-01,  1.0189e+00,  9.9336e-01,  ...,  9.6611e-01,\n",
       "            1.0711e+00,  1.0341e+00],\n",
       "          [ 1.0365e+00,  9.8529e-01,  9.8720e-01,  ...,  9.5873e-01,\n",
       "            9.3554e-01,  9.8866e-01],\n",
       "          ...,\n",
       "          [ 1.0832e+00,  1.0458e+00,  1.0068e+00,  ...,  9.7672e-01,\n",
       "            1.0187e+00,  9.9591e-01],\n",
       "          [ 9.6625e-01,  1.0106e+00,  9.6571e-01,  ...,  9.9791e-01,\n",
       "            9.8624e-01,  9.4009e-01],\n",
       "          [ 9.9694e-01,  9.0558e-01,  9.4468e-01,  ...,  9.5991e-01,\n",
       "            1.0214e+00,  9.7704e-01]],\n",
       "\n",
       "         [[-5.7327e-02, -5.1025e-02,  1.9798e-02,  ..., -1.7661e-02,\n",
       "            3.1900e-02,  4.2737e-02],\n",
       "          [-2.7627e-02, -6.7214e-02, -4.7557e-02,  ...,  8.9734e-03,\n",
       "            1.3500e-01,  1.6472e-02],\n",
       "          [-8.3269e-02, -8.3461e-02, -4.8952e-02,  ..., -1.2418e-02,\n",
       "            1.4497e-02,  2.9653e-02],\n",
       "          ...,\n",
       "          [-7.5720e-03, -4.9700e-02,  4.9071e-02,  ..., -6.9492e-03,\n",
       "            1.1662e-02, -3.8688e-03],\n",
       "          [-2.3517e-03,  2.3527e-02, -1.6589e-02,  ...,  2.9326e-02,\n",
       "            3.9847e-02,  6.7341e-03],\n",
       "          [ 1.5320e-02, -3.3622e-02,  2.1827e-02,  ...,  1.6198e-02,\n",
       "            1.7199e-02,  4.2882e-02]],\n",
       "\n",
       "         [[ 7.0838e-03, -4.2496e-02,  5.3193e-02,  ..., -1.2401e-01,\n",
       "           -6.1245e-02,  3.5489e-02],\n",
       "          [-8.6312e-02,  1.3693e-02,  7.1705e-02,  ..., -7.3205e-03,\n",
       "            1.0466e-01,  3.1032e-02],\n",
       "          [-6.6739e-02,  2.7699e-03, -6.1974e-03,  ..., -4.3285e-02,\n",
       "           -6.6905e-02, -2.6771e-02],\n",
       "          ...,\n",
       "          [-1.6135e-02,  2.9249e-02, -2.6040e-02,  ...,  5.1037e-02,\n",
       "            3.4259e-02,  6.7358e-02],\n",
       "          [-6.3872e-02, -7.4078e-04, -2.9487e-02,  ..., -4.6847e-02,\n",
       "            2.6364e-02,  3.6913e-02],\n",
       "          [-2.7987e-04, -7.7057e-02, -5.8812e-02,  ...,  6.8863e-02,\n",
       "            1.3273e-02,  2.9778e-02]],\n",
       "\n",
       "         [[-1.2518e-02, -2.1418e-02,  6.5479e-02,  ...,  1.3834e-01,\n",
       "           -6.0154e-03,  5.2646e-04],\n",
       "          [-1.3134e-02, -4.4503e-02, -1.0794e-01,  ...,  1.7959e-02,\n",
       "           -3.8658e-02,  9.4753e-03],\n",
       "          [ 2.1271e-02,  4.4090e-02, -7.3383e-03,  ...,  3.9556e-02,\n",
       "           -5.9692e-02,  3.2193e-02],\n",
       "          ...,\n",
       "          [-2.7729e-02, -3.4370e-03,  1.9499e-02,  ..., -2.0637e-02,\n",
       "            1.0978e-01, -2.7572e-02],\n",
       "          [-4.3664e-02, -5.8261e-02, -4.4499e-02,  ...,  1.7665e-02,\n",
       "            7.2650e-02, -6.6593e-03],\n",
       "          [-7.8469e-02,  7.7594e-03, -7.1027e-02,  ...,  1.1997e-03,\n",
       "           -6.2254e-02,  4.6632e-02]],\n",
       "\n",
       "         [[-4.1183e-02,  1.1285e-02, -1.0139e-01,  ...,  1.9600e-03,\n",
       "            3.2147e-02,  3.0931e-02],\n",
       "          [ 1.9975e-02, -1.4892e-02,  8.7852e-03,  ...,  2.4041e-02,\n",
       "           -5.7264e-03, -8.9204e-03],\n",
       "          [-4.1652e-02,  2.6922e-02,  2.6171e-02,  ..., -1.8610e-02,\n",
       "            8.9375e-02, -1.4123e-02],\n",
       "          ...,\n",
       "          [-1.8575e-03, -1.0185e-03,  1.4254e-02,  ..., -2.8799e-02,\n",
       "            6.1031e-02, -4.3473e-02],\n",
       "          [-1.8124e-02,  5.1455e-02, -6.5126e-02,  ..., -2.4303e-02,\n",
       "            3.4074e-03, -2.8958e-02],\n",
       "          [ 4.0689e-02,  1.5559e-02, -1.0919e-01,  ..., -1.3972e-02,\n",
       "           -2.0655e-02, -6.2262e-03]],\n",
       "\n",
       "         [[-1.0529e-02, -3.1560e-02, -5.8068e-02,  ...,  3.9681e-02,\n",
       "            7.4529e-02, -9.0644e-02],\n",
       "          [ 3.0870e-02, -2.7542e-02,  7.3678e-02,  ...,  3.7111e-02,\n",
       "            2.3446e-02,  2.2065e-02],\n",
       "          [ 5.4588e-02,  4.5998e-02, -1.8936e-02,  ...,  4.4196e-03,\n",
       "           -8.7426e-02, -6.0848e-03],\n",
       "          ...,\n",
       "          [-4.1945e-02, -5.0789e-02, -1.0580e-02,  ...,  6.1151e-03,\n",
       "           -1.6198e-02, -4.3183e-02],\n",
       "          [-7.5645e-02,  4.2682e-02,  4.0063e-02,  ...,  2.0027e-02,\n",
       "            7.7176e-02, -1.7394e-02],\n",
       "          [-4.0983e-03,  3.4298e-02,  1.3735e-02,  ..., -6.9332e-02,\n",
       "           -4.2440e-02,  4.3624e-02]]]], device='cuda:3',\n",
       "       grad_fn=<AddBackward0>)"
      ]
     },
     "execution_count": 161,
     "metadata": {},
     "output_type": "execute_result"
    }
   ],
   "source": [
    "current_state = grid_to_channels_batch([histories[4][0]], n_cell_types=6, device=\"cuda:3\")\n",
    "current_state = nca(current_state, num_steps=1, return_history = False)\n",
    "current_state"
   ]
  },
  {
   "cell_type": "code",
   "execution_count": 164,
   "metadata": {},
   "outputs": [
    {
     "data": {
      "image/png": "[encoded data removed]",
      "text/plain": [
       "<Figure size 2000x500 with 2 Axes>"
      ]
     },
     "metadata": {},
     "output_type": "display_data"
    }
   ],
   "source": [
    "plot_nca_prediction(nca, histories[5][0],steps = 35,n_cell_types = 6, cell_type_enum = ComplexCellType, \n",
    "                    show_intermediate = False, device = \"cuda:3\", random = False, random_seed = 1)"
   ]
  },
  {
   "cell_type": "code",
   "execution_count": 165,
   "metadata": {},
   "outputs": [],
   "source": [
    "# save the model\n",
    "torch.save(nca.state_dict(), '../models/nca_model_with_noise.pt')"
   ]
  },
  {
   "cell_type": "code",
   "execution_count": null,
   "metadata": {},
   "outputs": [],
   "source": []
  }
 ],
 "metadata": {
  "kernelspec": {
   "display_name": "automata_project",
   "language": "python",
   "name": "python3"
  },
  "language_info": {
   "codemirror_mode": {
    "name": "ipython",
    "version": 3
   },
   "file_extension": ".py",
   "mimetype": "text/x-python",
   "name": "python",
   "nbconvert_exporter": "python",
   "pygments_lexer": "ipython3",
   "version": "3.11.10"
  }
 },
 "nbformat": 4,
 "nbformat_minor": 2
}
